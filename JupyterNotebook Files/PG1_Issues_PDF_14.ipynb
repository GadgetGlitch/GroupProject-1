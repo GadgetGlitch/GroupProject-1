{
 "cells": [
  {
   "cell_type": "markdown",
   "id": "3942a70b",
   "metadata": {},
   "source": [
    "# Many Ways for Python to Scan and Read Data"
   ]
  },
  {
   "cell_type": "code",
   "execution_count": null,
   "id": "c17bb220",
   "metadata": {},
   "outputs": [],
   "source": [
    "!pip install PyMuPDF #for PDFs"
   ]
  },
  {
   "cell_type": "code",
   "execution_count": null,
   "id": "a39dafa3",
   "metadata": {},
   "outputs": [],
   "source": [
    "!pip install python-docx #for word Docs"
   ]
  },
  {
   "cell_type": "code",
   "execution_count": null,
   "id": "2d3cca4a",
   "metadata": {},
   "outputs": [],
   "source": [
    "!pip install beautifulsoup4 #for HTML reading"
   ]
  },
  {
   "cell_type": "code",
   "execution_count": null,
   "id": "10a7a47d",
   "metadata": {},
   "outputs": [],
   "source": [
    "!pip install pandas #for excel"
   ]
  },
  {
   "cell_type": "markdown",
   "id": "faf9c018",
   "metadata": {},
   "source": [
    "# Reading PDFs"
   ]
  },
  {
   "cell_type": "code",
   "execution_count": null,
   "id": "cbe850d1",
   "metadata": {},
   "outputs": [],
   "source": [
    "import fitz  # PyMuPDF\n",
    "\n",
    "pdf_path = 'path/to/your/file.pdf'\n",
    "doc = fitz.open(pdf_path)\n",
    "text = \"\"\n",
    "for page in doc:\n",
    "    text += page.get_text()\n",
    "print(text)"
   ]
  },
  {
   "cell_type": "code",
   "execution_count": null,
   "id": "a0832356",
   "metadata": {},
   "outputs": [],
   "source": [
    "# Reading Word Docs"
   ]
  },
  {
   "cell_type": "code",
   "execution_count": null,
   "id": "547d752d",
   "metadata": {},
   "outputs": [],
   "source": [
    "from docx import Document\n",
    "\n",
    "doc_path = 'path/to/your/file.docx'\n",
    "doc = Document(doc_path)\n",
    "text = \"\"\n",
    "for para in doc.paragraphs:\n",
    "    text += para.text + '\\n'\n",
    "print(text)\n"
   ]
  },
  {
   "cell_type": "markdown",
   "id": "22f6ba1d",
   "metadata": {},
   "source": [
    "# Reading HTML Files"
   ]
  },
  {
   "cell_type": "code",
   "execution_count": null,
   "id": "82764f06",
   "metadata": {},
   "outputs": [],
   "source": [
    "from bs4 import BeautifulSoup\n",
    "import requests  # If loading from a URL\n",
    "\n",
    "# For local HTML files\n",
    "html_path = 'path/to/your/file.html'\n",
    "with open(html_path, 'r') as html_file:\n",
    "    soup = BeautifulSoup(html_file, 'html.parser')\n",
    "\n",
    "# If from a URL, use:\n",
    "# html_content = requests.get('http://example.com').text\n",
    "# soup = BeautifulSoup(html_content, 'html.parser')\n",
    "\n",
    "text = soup.get_text()\n",
    "print(text)\n"
   ]
  },
  {
   "cell_type": "markdown",
   "id": "4c334f2b",
   "metadata": {},
   "source": [
    "# Reading Excel Files"
   ]
  },
  {
   "cell_type": "code",
   "execution_count": null,
   "id": "f282665c",
   "metadata": {},
   "outputs": [],
   "source": [
    "import pandas as pd\n",
    "\n",
    "excel_path = 'path/to/your/file.xlsx'\n",
    "# Load the Excel file\n",
    "df = pd.read_excel(excel_path)\n",
    "\n",
    "# If the Excel file has multiple sheets and you want to specify one, use:\n",
    "# df = pd.read_excel(excel_path, sheet_name='Sheet1')\n",
    "\n",
    "# Display the content\n",
    "print(df)\n"
   ]
  },
  {
   "cell_type": "markdown",
   "id": "6d4e6a92",
   "metadata": {},
   "source": [
    "# Reading HTML Websites"
   ]
  },
  {
   "cell_type": "code",
   "execution_count": null,
   "id": "6a636070",
   "metadata": {},
   "outputs": [],
   "source": [
    "import requests\n",
    "from bs4 import BeautifulSoup\n",
    "\n",
    "# Send a GET request to the website\n",
    "response = requests.get('http://example.com')\n",
    "\n",
    "# Extract the HTML content\n",
    "html_content = response.text\n",
    "\n",
    "# Parse the HTML\n",
    "soup = BeautifulSoup(html_content, 'html.parser')\n",
    "\n",
    "# Similar to the local file, you can now use the soup object to interact with the webpage's HTML.\n"
   ]
  }
 ],
 "metadata": {
  "kernelspec": {
   "display_name": "Python 3 (ipykernel)",
   "language": "python",
   "name": "python3"
  },
  "language_info": {
   "codemirror_mode": {
    "name": "ipython",
    "version": 3
   },
   "file_extension": ".py",
   "mimetype": "text/x-python",
   "name": "python",
   "nbconvert_exporter": "python",
   "pygments_lexer": "ipython3",
   "version": "3.11.4"
  }
 },
 "nbformat": 4,
 "nbformat_minor": 5
}
