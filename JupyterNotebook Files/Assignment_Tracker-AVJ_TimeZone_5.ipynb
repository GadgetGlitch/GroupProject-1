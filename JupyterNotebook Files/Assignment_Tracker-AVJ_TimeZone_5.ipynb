{
 "cells": [
  {
   "cell_type": "code",
   "execution_count": 1,
   "id": "0c02e15b",
   "metadata": {},
   "outputs": [],
   "source": [
    "import plotly.graph_objects as go\n",
    "import pandas as pd\n",
    "import ipywidgets as widgets\n",
    "import datetime"
   ]
  },
  {
   "cell_type": "code",
   "execution_count": 4,
   "id": "9f66ee80",
   "metadata": {},
   "outputs": [
    {
     "name": "stdout",
     "output_type": "stream",
     "text": [
      "Collecting tzlocal\n",
      "  Obtaining dependency information for tzlocal from https://files.pythonhosted.org/packages/97/3f/c4c51c55ff8487f2e6d0e618dba917e3c3ee2caae6cf0fbb59c9b1876f2e/tzlocal-5.2-py3-none-any.whl.metadata\n",
      "  Downloading tzlocal-5.2-py3-none-any.whl.metadata (7.8 kB)\n",
      "Requirement already satisfied: tzdata in c:\\users\\annak\\anaconda3\\lib\\site-packages (from tzlocal) (2023.3)\n",
      "Downloading tzlocal-5.2-py3-none-any.whl (17 kB)\n",
      "Installing collected packages: tzlocal\n",
      "Successfully installed tzlocal-5.2\n"
     ]
    }
   ],
   "source": [
    "!pip install tzlocal\n"
   ]
  },
  {
   "cell_type": "code",
   "execution_count": 2,
   "id": "f7869e26",
   "metadata": {},
   "outputs": [
    {
     "name": "stdout",
     "output_type": "stream",
     "text": [
      "   ITEM#       DATE  WK#  COURSE         ASSIGNMENT NAME  \\\n",
      "0      1  1/13/2024    1  CAS502  A1: P1: Read Articles    \n",
      "1      2  1/13/2024    1  CAS502  A1: P1: Find Statement   \n",
      "2      3  1/13/2024    1  CAS502   A1: P2: Watch a Video   \n",
      "3      4  1/15/2024    2  CAS502    WK2: Automated Ideas   \n",
      "4      5  1/15/2024    2  CAS502    WK2: Team Name Title   \n",
      "\n",
      "                                     DESCRIPTION DONE  \n",
      "0                      Statement that stood out     Y  \n",
      "1         Write why interesting",
      "answer questions    Y  \n",
      "2  Two recs and what could have done differently    Y  \n",
      "3                    Brainstorm what to Automate    Y  \n",
      "4                                Group Project 1    Y  \n"
     ]
    }
   ],
   "source": [
    "file_path = r\"C:\\Users\\annak\\CAS-502 Computation\\GroupProject-1\\GP1 Dataset_ Assignments.csv\"\n",
    "df = pd.read_csv(file_path, encoding='ISO-8859-1')  \n",
    "\n",
    "print(df.head())\n"
   ]
  },
  {
   "cell_type": "code",
   "execution_count": 1,
   "id": "a293ea63",
   "metadata": {},
   "outputs": [
    {
     "name": "stdout",
     "output_type": "stream",
     "text": [
      "2023-02-14\n"
     ]
    }
   ],
   "source": [
    "# Imported datetime to handle dates\n",
    "import datetime\n",
    "\n",
    "# Function to calculate pre-deadline date\n",
    "def get_predeadline(deadline, buffer_days=1):\n",
    "    \n",
    "    # Subtract buffer days from deadline date \n",
    "    predeadline = deadline - datetime.timedelta(days=buffer_days)  \n",
    "    \n",
    "    # Return predeadline date \n",
    "    return predeadline\n",
    "\n",
    "# Example usage    \n",
    "deadline = datetime.date(2023, 2, 15)  \n",
    "predeadline = get_predeadline(deadline, buffer_days=1) \n",
    "\n",
    "print(predeadline) # 2023-02-13"
   ]
  },
  {
   "cell_type": "code",
   "execution_count": 2,
   "id": "c7f43341",
   "metadata": {},
   "outputs": [
    {
     "name": "stdout",
     "output_type": "stream",
     "text": [
      "   ITEM#       DATE PREDEADLINE  WK#  COURSE         ASSIGNMENT NAME  \\\n",
      "0      1 2024-01-13  2024-01-12    1  CAS502  A1: P1: Read Articles    \n",
      "1      2 2024-01-13  2024-01-12    1  CAS502  A1: P1: Find Statement   \n",
      "2      3 2024-01-13  2024-01-12    1  CAS502   A1: P2: Watch a Video   \n",
      "3      4 2024-01-15  2024-01-14    2  CAS502    WK2: Automated Ideas   \n",
      "4      5 2024-01-15  2024-01-14    2  CAS502    WK2: Team Name Title   \n",
      "\n",
      "                                     DESCRIPTION DONE  \n",
      "0                      Statement that stood out     Y  \n",
      "1         Write why interesting",
      "answer questions    Y  \n",
      "2  Two recs and what could have done differently    Y  \n",
      "3                    Brainstorm what to Automate    Y  \n",
      "4                                Group Project 1    Y  \n"
     ]
    }
   ],
   "source": [
    "import pandas as pd\n",
    "import datetime\n",
    "\n",
    "# Load the CSV file\n",
    "file_path = r\"C:\\Users\\annak\\CAS-502 Computation\\GroupProject-1\\GP1 Dataset_ Assignments.csv\"\n",
    "df = pd.read_csv(file_path, encoding='ISO-8859-1')\n",
    "\n",
    "# Convert the 'DATE' column to datetime objects\n",
    "df['DATE'] = pd.to_datetime(df['DATE'], format='%m/%d/%Y')\n",
    "\n",
    "# Function to calculate pre-deadline date\n",
    "def get_predeadline(deadline, buffer_days=1):\n",
    "    predeadline = deadline - datetime.timedelta(days=buffer_days)\n",
    "    return predeadline\n",
    "\n",
    "# Calculate predeadline for each date\n",
    "df['PREDEADLINE'] = df['DATE'].apply(lambda x: get_predeadline(x, buffer_days=1))\n",
    "\n",
    "# Rearrange columns to put PREDEADLINE between DATE and WK#\n",
    "column_order = ['ITEM#', 'DATE', 'PREDEADLINE', 'WK#', 'COURSE', 'ASSIGNMENT NAME', 'DESCRIPTION', 'DONE']\n",
    "df = df[column_order]\n",
    "\n",
    "# Print the new table headers\n",
    "print(df.head())\n",
    "\n"
   ]
  },
  {
   "cell_type": "code",
   "execution_count": 3,
   "id": "29564998",
   "metadata": {},
   "outputs": [
    {
     "name": "stdout",
     "output_type": "stream",
     "text": [
      "File saved as: C:\\Users\\annak\\CAS-502 Computation\\GroupProject-1\\GP1 Dataset_ Assignments_PreDeadline.csv\n"
     ]
    }
   ],
   "source": [
    "# Original file path\n",
    "original_file_path = r\"C:\\Users\\annak\\CAS-502 Computation\\GroupProject-1\\GP1 Dataset_ Assignments.csv\"\n",
    "\n",
    "# Constructing the new file path\n",
    "new_file_name = \"GP1 Dataset_ Assignments_PreDeadline.csv\"\n",
    "new_file_path = original_file_path.rsplit('\\\\', 1)[0] + '\\\\' + new_file_name\n",
    "\n",
    "# Save the modified DataFrame to the new file\n",
    "df.to_csv(new_file_path, index=False)\n",
    "\n",
    "print(f\"File saved as: {new_file_path}\")\n"
   ]
  },
  {
   "cell_type": "code",
   "execution_count": null,
   "id": "da21d49c",
   "metadata": {},
   "outputs": [],
   "source": [
    "import pandas as pd\n",
    "import datetime\n",
    "import pytz\n",
    "\n",
    "# Function to convert time zone\n",
    "def convert_timezone(date, from_zone, to_zone):\n",
    "    # Convert naive datetime to aware datetime\n",
    "    date = pytz.timezone(from_zone).localize(date)\n",
    "    # Convert to the desired time zone\n",
    "    return date.astimezone(pytz.timezone(to_zone))\n",
    "\n",
    "# Load the CSV file\n",
    "file_path = r\"C:\\Users\\annak\\CAS-502 Computation\\GroupProject-1\\GP1 Dataset_ Assignments.csv\"\n",
    "df = pd.read_csv(file_path, encoding='ISO-8859-1')\n",
    "\n",
    "# Convert 'DATE' column to datetime objects\n",
    "df['DATE'] = pd.to_datetime(df['DATE'], format='%m/%d/%Y')\n",
    "\n",
    "# Mapping courses to their time zones\n",
    "course_time_zones = {\n",
    "    'CAS7074': 'US/Pacific',\n",
    "    'RES3500': 'US/Pacific',\n",
    "    'CAS502': 'US/Arizona'\n",
    "}\n",
    "\n",
    "# Ask for the student's time zone\n",
    "student_time_zone = input(\"Enter your time zone (e.g., 'US/Eastern'): \")\n",
    "\n",
    "# Convert assignment dates to the student's time zone\n",
    "df['LOCAL_DUE_DATE'] = df.apply(lambda x: convert_timezone(x['DATE'], course_time_zones[x['COURSE']], student_time_zone), axis=1)\n",
    "\n",
    "# Add remaining code for predeadline and other operations\n",
    "# ...\n",
    "\n",
    "# Print the updated DataFrame\n",
    "print(df.head())\n"
   ]
  },
  {
   "cell_type": "code",
   "execution_count": null,
   "id": "16c5c4c7",
   "metadata": {},
   "outputs": [],
   "source": [
    "def convert_to_user_timezone(date, from_tz, to_tz):\n",
    "    from_zone = pytz.timezone(from_tz)\n",
    "    to_zone = pytz.timezone(to_tz)\n",
    "    localized_date = from_zone.localize(date)\n",
    "    return localized_date.astimezone(to_zone)\n",
    "\n",
    "def get_timezone_from_city(city):\n",
    "    geolocator = Nominatim(user_agent=\"timezone_finder\")\n",
    "    location = geolocator.geocode(city)\n",
    "    if location:\n",
    "        timezone = pytz.timezone(pytz.country_timezones_by_location(location.latitude, location.longitude)[0])\n",
    "        return timezone.zone\n",
    "    return None\n"
   ]
  },
  {
   "cell_type": "code",
   "execution_count": null,
   "id": "3c876e8c",
   "metadata": {},
   "outputs": [],
   "source": [
    "# Ask the user for their city or timezone\n",
    "user_input = input(\"Enter your city or timezone: \")\n",
    "\n",
    "# Determine if the input is a city or a timezone\n",
    "try:\n",
    "    # Assume it's a timezone first\n",
    "    user_tz = pytz.timezone(user_input)\n",
    "except pytz.UnknownTimeZoneError:\n",
    "    # If not a timezone, try as a city\n",
    "    user_tz_name = get_timezone_from_city(user_input)\n",
    "    if user_tz_name:\n",
    "        user_tz = pytz.timezone(user_tz_name)\n",
    "    else:\n",
    "        print(\"City not found. Using UTC as default.\")\n",
    "        user_tz = pytz.timezone('UTC')\n"
   ]
  },
  {
   "cell_type": "code",
   "execution_count": null,
   "id": "63dd43cf",
   "metadata": {},
   "outputs": [],
   "source": [
    "# Load assignment data\n",
    "file_path = 'assignments.csv'  # Replace with your actual file path\n",
    "df = pd.read_csv(file_path, parse_dates=['Due_Date'], dayfirst=True)\n",
    "\n",
    "# Add a column with converted due dates\n",
    "df['Local_Due_Date'] = df.apply(lambda row: convert_to_user_timezone(row['Due_Date'], row['Time_Zone'], user_tz), axis=1)\n"
   ]
  },
  {
   "cell_type": "code",
   "execution_count": null,
   "id": "71ab0b03",
   "metadata": {},
   "outputs": [],
   "source": [
    "print(df[['Assignment', 'Due_Date', 'Time_Zone', 'PreDeadline Date', 'Local_Due_Time']])\n"
   ]
  },
  {
   "cell_type": "markdown",
   "id": "5bb3a05f",
   "metadata": {},
   "source": [
    "This code will:\n",
    "\n",
    "Load your assignment data from the CSV file.\n",
    "Convert assignment dates from the course-specific time zones to the time zone specified by the student.\n",
    "Calculate pre-deadlines for each assignment.\n",
    "Reorder the columns as specified.\n",
    "Display the first few rows of the updated DataFrame."
   ]
  }
 ],
 "metadata": {
  "celltoolbar": "Edit Metadata",
  "kernelspec": {
   "display_name": "Python 3 (ipykernel)",
   "language": "python",
   "name": "python3"
  },
  "language_info": {
   "codemirror_mode": {
    "name": "ipython",
    "version": 3
   },
   "file_extension": ".py",
   "mimetype": "text/x-python",
   "name": "python",
   "nbconvert_exporter": "python",
   "pygments_lexer": "ipython3",
   "version": "3.11.4"
  }
 },
 "nbformat": 4,
 "nbformat_minor": 5
}
