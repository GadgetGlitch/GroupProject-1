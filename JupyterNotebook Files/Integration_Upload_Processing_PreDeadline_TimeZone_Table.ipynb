{
 "cells": [
  {
   "cell_type": "markdown",
   "id": "44641dc6",
   "metadata": {},
   "source": [
    "# Installs and Imports"
   ]
  },
  {
   "cell_type": "code",
   "execution_count": 1,
   "id": "d37b3d0d",
   "metadata": {},
   "outputs": [
    {
     "data": {
      "application/vnd.jupyter.widget-view+json": {
       "model_id": "145a841dc5204e63935c99d6d796ef48",
       "version_major": 2,
       "version_minor": 0
      },
      "text/plain": [
       "VBox(children=(VBox(children=(Label(value='Supported file types: Docs (Word), PDF, Excel'), FileUpload(value=(…"
      ]
     },
     "metadata": {},
     "output_type": "display_data"
    }
   ],
   "source": [
    "# 1. Setup and Imports\n",
    "import ipywidgets as widgets\n",
    "from IPython.display import display\n",
    "import pandas as pd\n",
    "import requests\n",
    "from bs4 import BeautifulSoup\n",
    "from docx import Document\n",
    "import fitz  # PyMuPDF for PDF files\n",
    "import datetime\n",
    "import pytz\n",
    "from geopy.geocoders import Nominatim\n",
    "from timezonefinder import TimezoneFinder\n",
    "import re  # For regular expressions\n",
    "import openpyxl  # For .xlsx files\n",
    "import xlrd  # For .xls files\n",
    "\n",
    "# 2. Utility Functions\n",
    "\n",
    "def extract_info_from_text(text):\n",
    "    due_date_match = re.search(r\"Due Date: (\\d{2}/\\d{2}/\\d{4})\", text)\n",
    "    due_date = due_date_match.group(1) if due_date_match else \"Not found\"\n",
    "    # Implement similar searches for class number/code, assignment details, etc.\n",
    "    return {'due_date': due_date}\n",
    "\n",
    "def process_docx(file_content):\n",
    "    doc = Document(file_content)\n",
    "    text = \"\\n\".join([para.text for para in doc.paragraphs])\n",
    "    return extract_info_from_text(text)\n",
    "\n",
    "def process_pdf(file_content):\n",
    "    try:\n",
    "        doc = fitz.open(stream=file_content, filetype=\"pdf\")\n",
    "        text = ''.join([page.get_text(\"text\") for page in doc])\n",
    "        return extract_info_from_text(text)\n",
    "    except Exception as e:\n",
    "        print(f\"Failed to process PDF file: {e}\")\n",
    "        return {}\n",
    "\n",
    "def process_excel(file_content, file_type='xlsx'):\n",
    "    df = pd.read_excel(file_content, engine='openpyxl' if file_type == 'xlsx' else 'xlrd')\n",
    "    return df.to_dict('records')\n",
    "\n",
    "def process_csv(file_content):\n",
    "    df = pd.read_csv(file_content)\n",
    "    return df.to_dict('records')\n",
    "\n",
    "def scrape_and_process_html(url):\n",
    "    try:\n",
    "        response = requests.get(url)\n",
    "        soup = BeautifulSoup(response.text, 'html.parser')\n",
    "        text = soup.get_text()\n",
    "        return extract_info_from_text(text)\n",
    "    except Exception as e:\n",
    "        print(f\"Failed to scrape HTML from {url}: {e}\")\n",
    "        return {}\n",
    "\n",
    "def process_file_upload(change):\n",
    "    uploaded_files = file_upload.value  # Correctly access the uploaded files\n",
    "    for name, file_info in uploaded_files.items():\n",
    "        content = file_info['content']\n",
    "        if name.endswith('.xlsx') or name.endswith('.xls'):\n",
    "            # Process Excel files\n",
    "            assignments = process_excel(content, 'xlsx' if name.endswith('.xlsx') else 'xls')\n",
    "        elif name.endswith('.csv'):\n",
    "            # Process CSV files\n",
    "            assignments = process_csv(content)\n",
    "        elif name.endswith('.pdf'):\n",
    "            # Process PDF files\n",
    "            assignments = process_pdf(content)\n",
    "        elif name.endswith('.docx'):\n",
    "            # Process DOCX files\n",
    "            assignments = process_docx(content)\n",
    "        else:\n",
    "            print(f\"Unsupported file type: {name}\")\n",
    "            assignments = []\n",
    "       \n",
    "        \n",
    "# 3. Set up the widgets for file upload and URL input\n",
    "file_upload = widgets.FileUpload(accept='.xlsx, .xls, .pdf, .docx', multiple=True, description='Upload Files')\n",
    "file_upload.observe(process_file_upload, names='value')\n",
    "\n",
    "url_input = widgets.Text(placeholder='Enter URL here', description='URL:')\n",
    "submit_button = widgets.Button(description='Submit URL', button_style='', tooltip='Click to submit the URL')\n",
    "\n",
    "def submit_url(b):\n",
    "    url = url_input.value\n",
    "    if url:\n",
    "        result = scrape_and_process_html(url)\n",
    "        print(result)  # Display or handle the scraped data\n",
    "    else:\n",
    "        print(\"Please enter a URL.\")\n",
    "\n",
    "submit_button.on_click(submit_url)\n",
    "\n",
    "# 4. Organize and display UI components\n",
    "upload_box = widgets.VBox([widgets.Label('Supported file types: Docs (Word), PDF, Excel'), file_upload])\n",
    "url_box = widgets.VBox([url_input, submit_button])\n",
    "main_box = widgets.VBox([upload_box, url_box])\n",
    "display(main_box)\n"
   ]
  },
  {
   "cell_type": "code",
   "execution_count": null,
   "id": "c52cd38d",
   "metadata": {},
   "outputs": [],
   "source": []
  }
 ],
 "metadata": {
  "kernelspec": {
   "display_name": "Python 3 (ipykernel)",
   "language": "python",
   "name": "python3"
  },
  "language_info": {
   "codemirror_mode": {
    "name": "ipython",
    "version": 3
   },
   "file_extension": ".py",
   "mimetype": "text/x-python",
   "name": "python",
   "nbconvert_exporter": "python",
   "pygments_lexer": "ipython3",
   "version": "3.11.4"
  }
 },
 "nbformat": 4,
 "nbformat_minor": 5
}
