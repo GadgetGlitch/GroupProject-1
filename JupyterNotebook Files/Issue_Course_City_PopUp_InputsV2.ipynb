{
 "cells": [
  {
   "cell_type": "code",
   "execution_count": 8,
   "id": "fb1565c1",
   "metadata": {},
   "outputs": [],
   "source": [
    "import pandas as pd\n",
    "import tkinter as tk\n",
    "from tkinter import simpledialog\n",
    "import ipywidgets as widgets"
   ]
  },
  {
   "cell_type": "code",
   "execution_count": 2,
   "id": "3ef733a6",
   "metadata": {},
   "outputs": [],
   "source": [
    "file_path = r\"C:\\Users\\annak\\CAS-502 Computation\\GroupProject-1\\GP1 Dataset_ Assignments.csv\"\n",
    "df = pd.read_csv(file_path, encoding='ISO-8859-1')"
   ]
  },
  {
   "cell_type": "code",
   "execution_count": 16,
   "id": "a5771a64",
   "metadata": {},
   "outputs": [
    {
     "name": "stdout",
     "output_type": "stream",
     "text": [
      "Input 'Tempe' is valid. Location: 33.4255117, -111.940016\n",
      "Input 'Pasadena' is valid. Location: 34.1476507, -118.144155\n",
      "Input 'Pasadena' is valid. Location: 34.1476507, -118.144155\n",
      "\n",
      "Final course-city mapping:\n",
      "CAS502: Tempe, Maricopa County, Arizona, United States\n",
      "ORG7074: Pasadena, Los Angeles County, California, United States\n",
      "RES3500: Pasadena, Los Angeles County, California, United States\n"
     ]
    }
   ],
   "source": [
    "import tkinter as tk\n",
    "from tkinter import simpledialog\n",
    "from geopy.geocoders import Nominatim\n",
    "from geopy.exc import GeocoderTimedOut\n",
    "\n",
    "# Initialize the geolocator\n",
    "geolocator = Nominatim(user_agent=\"geoapp\")\n",
    "\n",
    "def validate_city(city_name):\n",
    "    try:\n",
    "        location = geolocator.geocode(city_name)\n",
    "        if location:\n",
    "            print(f\"Input '{city_name}' is valid. Location: {location.latitude}, {location.longitude}\")\n",
    "            return True, location.address  # Return True and the formatted address\n",
    "        else:\n",
    "            print(f\"Input '{city_name}' could not be validated.\")\n",
    "            return False, None\n",
    "    except GeocoderTimedOut:\n",
    "        print(\"Geocoding service timed out.\")\n",
    "        return False, None\n",
    "\n",
    "def ask_for_cities_and_handle_errors(courses):\n",
    "    root = tk.Tk()\n",
    "    root.withdraw()  # Hide the main window\n",
    "\n",
    "    course_city_dict = {}\n",
    "\n",
    "    for course in courses:\n",
    "        while True:\n",
    "            city = simpledialog.askstring(\"Input\", f\"Enter the city for the course {course}:\")\n",
    "            is_valid, formatted_address = validate_city(city)\n",
    "            if is_valid:\n",
    "                # If the city is valid, map the course to the formatted address and break the loop\n",
    "                course_city_dict[course] = formatted_address\n",
    "                break\n",
    "            else:\n",
    "                # If the input is invalid, show an error message and prompt again\n",
    "                print(f\"Invalid input received: '{city}'. Please enter a valid city name.\")\n",
    "\n",
    "    # After collecting all inputs, print the final mapping\n",
    "    print(\"\\nFinal course-city mapping:\")\n",
    "    for course, city in course_city_dict.items():\n",
    "        print(f\"{course}: {city}\")\n",
    "\n",
    "# Example courses\n",
    "courses = ['CAS502', 'ORG7074', 'RES3500']\n",
    "\n",
    "ask_for_cities_and_handle_errors(courses)\n"
   ]
  },
  {
   "cell_type": "code",
   "execution_count": 17,
   "id": "c6070d2a",
   "metadata": {},
   "outputs": [
    {
     "name": "stdout",
     "output_type": "stream",
     "text": [
      "CSV file has been updated with the CRS_TZ column right after the DATE column.\n",
      "   ITEM#       DATE  CRS_TZ  WK#  COURSE         ASSIGNMENT NAME  \\\n",
      "0      1  1/13/2024     NaN    1  CAS502  A1: P1: Read Articles    \n",
      "1      2  1/13/2024     NaN    1  CAS502  A1: P1: Find Statement   \n",
      "2      3  1/13/2024     NaN    1  CAS502   A1: P2: Watch a Video   \n",
      "3      4  1/15/2024     NaN    2  CAS502    WK2: Automated Ideas   \n",
      "4      5  1/15/2024     NaN    2  CAS502    WK2: Team Name Title   \n",
      "\n",
      "                                     DESCRIPTION  \n",
      "0                      Statement that stood out   \n",
      "1         Write why interesting",
      "answer questions  \n",
      "2  Two recs and what could have done differently  \n",
      "3                    Brainstorm what to Automate  \n",
      "4                                Group Project 1  \n"
     ]
    }
   ],
   "source": [
    "import pandas as pd\n",
    "\n",
    "# Assuming df is your DataFrame after reading the CSV\n",
    "file_path = r\"C:\\Users\\annak\\CAS-502 Computation\\GroupProject-1\\GP1 Dataset_ Assignments.csv\"\n",
    "df = pd.read_csv(file_path, encoding='ISO-8859-1')\n",
    "\n",
    "# Corrected course-city mapping\n",
    "course_city_dict = {\n",
    "    'CAS502': 'Tempe',\n",
    "    'ORG7074': 'Pasadena',\n",
    "    'RES3500': 'Pasadena'  # Corrected the typo here\n",
    "}\n",
    "\n",
    "# City to time zone mapping\n",
    "# Note: This is a simplified mapping. Real-world applications should use a more accurate method.\n",
    "city_time_zone_dict = {\n",
    "    'Tempe': 'MST',\n",
    "    'Pasadena': 'PT'\n",
    "}\n",
    "\n",
    "# Map courses to cities, then cities to time zones\n",
    "df['CRS_TZ'] = df['COURSE'].map(course_city_dict).map(city_time_zone_dict)\n",
    "\n",
    "# Find the position of the 'DATE' column\n",
    "date_column_position = df.columns.get_loc('DATE')\n",
    "\n",
    "# Insert the 'CRS_TZ' column right after the 'DATE' column\n",
    "# Ensure 'CRS_TZ' is not already in the DataFrame to avoid duplication\n",
    "if 'CRS_TZ' in df:\n",
    "    # If 'CRS_TZ' already exists, drop it first to avoid errors\n",
    "    df.drop('CRS_TZ', axis=1, inplace=True)\n",
    "\n",
    "# Create a new DataFrame with 'CRS_TZ' in the desired position\n",
    "df = df.reindex(columns=df.columns.tolist()[:date_column_position+1] + ['CRS_TZ'] + df.columns.tolist()[date_column_position+1:-1])\n",
    "\n",
    "# Save the updated DataFrame back to a CSV, without the 'City' column\n",
    "df.to_csv(file_path.replace('.csv', '_updated.csv'), index=False)\n",
    "\n",
    "print(\"CSV file has been updated with the CRS_TZ column right after the DATE column.\")\n",
    "print(df.head())"
   ]
  },
  {
   "cell_type": "raw",
   "id": "b5a28cb8",
   "metadata": {},
   "source": []
  },
  {
   "cell_type": "code",
   "execution_count": null,
   "id": "433ee4b4",
   "metadata": {},
   "outputs": [],
   "source": []
  }
 ],
 "metadata": {
  "kernelspec": {
   "display_name": "Python 3 (ipykernel)",
   "language": "python",
   "name": "python3"
  },
  "language_info": {
   "codemirror_mode": {
    "name": "ipython",
    "version": 3
   },
   "file_extension": ".py",
   "mimetype": "text/x-python",
   "name": "python",
   "nbconvert_exporter": "python",
   "pygments_lexer": "ipython3",
   "version": "3.11.4"
  }
 },
 "nbformat": 4,
 "nbformat_minor": 5
}
