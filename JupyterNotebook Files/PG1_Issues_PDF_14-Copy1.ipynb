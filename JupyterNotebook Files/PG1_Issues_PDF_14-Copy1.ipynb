{
 "cells": [
  {
   "cell_type": "markdown",
   "id": "d7bd79f0",
   "metadata": {},
   "source": [
    "# Many Ways for Python to Scan and Read Data"
   ]
  },
  {
   "cell_type": "code",
   "execution_count": null,
   "id": "9cf7fb56",
   "metadata": {},
   "outputs": [],
   "source": [
    "!pip install PyMuPDF #for PDFs"
   ]
  },
  {
   "cell_type": "code",
   "execution_count": null,
   "id": "7526af7f",
   "metadata": {},
   "outputs": [],
   "source": [
    "!pip install python-docx #for word Docs"
   ]
  },
  {
   "cell_type": "code",
   "execution_count": null,
   "id": "dd48a1ca",
   "metadata": {},
   "outputs": [],
   "source": [
    "!pip install beautifulsoup4 #for HTML reading"
   ]
  },
  {
   "cell_type": "code",
   "execution_count": null,
   "id": "acd71363",
   "metadata": {},
   "outputs": [],
   "source": [
    "!pip install pandas #for excel"
   ]
  },
  {
   "cell_type": "code",
   "execution_count": null,
   "id": "00a07110",
   "metadata": {},
   "outputs": [],
   "source": [
    "!pip install pandas openpyxl PyMuPDF python-docx beautifulsoup4 requests"
   ]
  },
  {
   "cell_type": "code",
   "execution_count": null,
   "id": "74bacd47",
   "metadata": {},
   "outputs": [],
   "source": [
    "!pip install ipywidgets"
   ]
  },
  {
   "cell_type": "code",
   "execution_count": 1,
   "id": "014ff416",
   "metadata": {},
   "outputs": [
    {
     "name": "stdout",
     "output_type": "stream",
     "text": [
      "All libraries are installed correctly.\n"
     ]
    }
   ],
   "source": [
    "import pandas\n",
    "import openpyxl\n",
    "import fitz\n",
    "import docx\n",
    "from bs4 import BeautifulSoup\n",
    "import requests\n",
    "\n",
    "print(\"All libraries are installed correctly.\")\n"
   ]
  },
  {
   "cell_type": "code",
   "execution_count": null,
   "id": "0f24a3ec",
   "metadata": {},
   "outputs": [],
   "source": [
    "import ipywidgets as widgets\n",
    "from IPython.display import display\n",
    "\n",
    "# Function to handle file import based on the dropdown selection\n",
    "def handle_file_import(change):\n",
    "    file_type = change['new']\n",
    "    \n",
    "    if file_type in ['Excel', 'PDF', 'Word']:\n",
    "        print(f\"Please upload your {file_type} syllabus file.\")\n",
    "        # Here you would add the code to upload and process the file\n",
    "        # For Jupyter, file upload widgets or input() for file paths can be used\n",
    "    elif file_type == 'URL':\n",
    "        print(\"Please enter the URL of your HTML syllabus.\")\n",
    "        # Here you could use input() to get the URL and then scrape or display it\n",
    "\n",
    "# Create the dropdown menu\n",
    "file_type_dropdown = widgets.Dropdown(\n",
    "    options=['Select file type', 'Excel', 'PDF', 'Word', 'URL'],\n",
    "    value='Select file type',\n",
    "    description='File Type:',\n",
    ")\n",
    "\n",
    "# Display the dropdown\n",
    "display(file_type_dropdown)\n",
    "\n",
    "# Call handle_file_import function when an option is selected\n",
    "file_type_dropdown.observe(handle_file_import, names='value')\n"
   ]
  },
  {
   "cell_type": "code",
   "execution_count": null,
   "id": "fd21e11d",
   "metadata": {},
   "outputs": [],
   "source": [
    "import ipywidgets as widgets\n",
    "from IPython.display import display\n",
    "\n",
    "# Function to handle file import based on the dropdown selection\n",
    "def handle_file_import(change):\n",
    "    file_type = change['new']\n",
    "    \n",
    "    if file_type in ['Excel', 'PDF', 'Word']:\n",
    "        print(f\"Please upload your {file_type} syllabus file.\")\n",
    "        # Here you would add the code to upload and process the file\n",
    "        # For Jupyter, file upload widgets or input() for file paths can be used\n",
    "    elif file_type == 'URL':\n",
    "        print(\"Please enter the URL of your HTML syllabus.\")\n",
    "        # Here you could use input() to get the URL and then scrape or display it\n",
    "\n",
    "# Create the dropdown menu\n",
    "file_type_dropdown = widgets.Dropdown(\n",
    "    options=['Select file type', 'Excel', 'PDF', 'Word', 'URL'],\n",
    "    value='Select file type',\n",
    "    description='File Type:',\n",
    ")\n",
    "\n",
    "# Display the dropdown\n",
    "display(file_type_dropdown)\n",
    "\n",
    "# Call handle_file_import function when an option is selected\n",
    "file_type_dropdown.observe(handle_file_import, names='value')\n",
    "\n"
   ]
  },
  {
   "cell_type": "code",
   "execution_count": null,
   "id": "69d2ada2",
   "metadata": {},
   "outputs": [],
   "source": [
    "file_path = r\"C:\\Users\\annak\\CAS-502 Computation\\GroupProject-1\\GP1 Dataset_ Assignments.csv\"\n",
    "df = pd.read_csv(file_path, encoding='ISO-8859-1')  \n",
    "\n",
    "print(df.head())"
   ]
  },
  {
   "cell_type": "markdown",
   "id": "07b588ba",
   "metadata": {},
   "source": [
    "# Reading PDFs"
   ]
  },
  {
   "cell_type": "code",
   "execution_count": null,
   "id": "bcb1b79e",
   "metadata": {},
   "outputs": [],
   "source": [
    "import fitz  # PyMuPDF\n",
    "\n",
    "pdf_path = 'r\"C:\\Users\\annak\\CAS-502 Computation\\GroupProject-1\\RES3500_Syllabus.pdf'\n",
    "doc = fitz.open(pdf_path)\n",
    "text_pdf = \"\"\n",
    "for page in doc:\n",
    "    text_pdf += page.get_text()\n",
    "print(text_pdf)  # Or any other operation\n"
   ]
  },
  {
   "cell_type": "markdown",
   "id": "a97de962",
   "metadata": {},
   "source": [
    "# Reading Word Docs"
   ]
  },
  {
   "cell_type": "code",
   "execution_count": null,
   "id": "7127bae8",
   "metadata": {},
   "outputs": [],
   "source": [
    "from docx import Document\n",
    "\n",
    "doc_path = 'r\"C:\\Users\\annak\\CAS-502 Computation\\GroupProject-1\\ORG7074 Syllabus Present Issues in Sustainability.docx'\n",
    "doc = Document(doc_path)\n",
    "text_docx = \"\"\n",
    "for para in doc.paragraphs:\n",
    "    text_docx += para.text + '\\n'\n",
    "print(text_docx)  # Or any other operation\n",
    "\n"
   ]
  },
  {
   "cell_type": "markdown",
   "id": "1b72c61e",
   "metadata": {},
   "source": [
    "# Reading Excel Files"
   ]
  },
  {
   "cell_type": "code",
   "execution_count": null,
   "id": "53927be1",
   "metadata": {},
   "outputs": [],
   "source": [
    "import pandas as pd\n",
    "\n",
    "excel_path = 'r\"C:\\Users\\annak\\CAS-502 Computation\\GroupProject-1\\GP1 Dataset_Assignments.xlsx'\n",
    "df_excel = pd.read_excel(excel_path)\n",
    "print(df_excel.head())  # Or any other operation\n",
    "\n"
   ]
  },
  {
   "cell_type": "markdown",
   "id": "511f8c68",
   "metadata": {},
   "source": [
    "# Reading HTML Websites"
   ]
  },
  {
   "cell_type": "code",
   "execution_count": null,
   "id": "c494ed2f",
   "metadata": {},
   "outputs": [],
   "source": [
    "from bs4 import BeautifulSoup\n",
    "import requests  # If loading from a URL\n",
    "from bs4 import BeautifulSoup\n",
    "\n",
    "url = 'https://canvas.asu.edu/courses/178238/assignments'\n",
    "response = requests.get(url)\n",
    "soup = BeautifulSoup(response.text, 'html.parser')\n",
    "\n",
    "# Example: Extracting assignment information, adjust selector as needed\n",
    "assignments = soup.find_all('some_selector')\n",
    "for assignment in assignments:\n",
    "    print(assignment.text)  # Or any other operation\n"
   ]
  },
  {
   "cell_type": "markdown",
   "id": "36334d88",
   "metadata": {},
   "source": [
    "# Reading HTML Files"
   ]
  },
  {
   "cell_type": "code",
   "execution_count": null,
   "id": "c6a02b6b",
   "metadata": {},
   "outputs": [],
   "source": [
    "import requests\n",
    "from bs4 import BeautifulSoup\n",
    "\n",
    "# Send a GET request to the website\n",
    "response = requests.get('http://example.com')\n",
    "\n",
    "# Extract the HTML content\n",
    "html_content = response.text\n",
    "\n",
    "# Parse the HTML\n",
    "soup = BeautifulSoup(html_content, 'html.parser')\n",
    "\n",
    "# Similar to the local file, you can now use the soup object to interact with the webpage's HTML.\n"
   ]
  }
 ],
 "metadata": {
  "kernelspec": {
   "display_name": "Python 3 (ipykernel)",
   "language": "python",
   "name": "python3"
  },
  "language_info": {
   "codemirror_mode": {
    "name": "ipython",
    "version": 3
   },
   "file_extension": ".py",
   "mimetype": "text/x-python",
   "name": "python",
   "nbconvert_exporter": "python",
   "pygments_lexer": "ipython3",
   "version": "3.11.4"
  }
 },
 "nbformat": 4,
 "nbformat_minor": 5
}
