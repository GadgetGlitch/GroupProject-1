{
 "cells": [
  {
   "cell_type": "code",
   "execution_count": null,
   "id": "0c02e15b",
   "metadata": {},
   "outputs": [],
   "source": [
    "import plotly.graph_objects as go\n",
    "import pandas as pd\n",
    "import ipywidgets as widgets\n",
    "import datetime"
   ]
  },
  {
   "cell_type": "code",
   "execution_count": null,
   "id": "f064434e",
   "metadata": {},
   "outputs": [],
   "source": [
    "!pip install timezonefinder\n"
   ]
  },
  {
   "cell_type": "code",
   "execution_count": null,
   "id": "d8a6fd62",
   "metadata": {},
   "outputs": [],
   "source": [
    "!pip install tzwhere\n"
   ]
  },
  {
   "cell_type": "code",
   "execution_count": null,
   "id": "da21d49c",
   "metadata": {},
   "outputs": [],
   "source": [
    "!pip install geopy\n"
   ]
  },
  {
   "cell_type": "code",
   "execution_count": null,
   "id": "f7869e26",
   "metadata": {},
   "outputs": [],
   "source": [
    "file_path = r\"C:\\Users\\annak\\CAS-502 Computation\\GroupProject-1\\GP1 Dataset_ Assignments.csv\"\n",
    "df = pd.read_csv(file_path, encoding='ISO-8859-1')  \n",
    "\n",
    "print(df.head())\n"
   ]
  },
  {
   "cell_type": "code",
   "execution_count": null,
   "id": "a293ea63",
   "metadata": {},
   "outputs": [],
   "source": [
    "# Imported datetime to handle dates\n",
    "import datetime\n",
    "\n",
    "# Function to calculate pre-deadline date\n",
    "def get_predeadline(deadline, buffer_days=1):\n",
    "    \n",
    "    # Subtract buffer days from deadline date \n",
    "    predeadline = deadline - datetime.timedelta(days=buffer_days)  \n",
    "    \n",
    "    # Return predeadline date \n",
    "    return predeadline\n",
    "\n",
    "# Example usage    \n",
    "deadline = datetime.date(2023, 2, 15)  \n",
    "predeadline = get_predeadline(deadline, buffer_days=1) \n",
    "\n",
    "print(predeadline) # 2023-02-13"
   ]
  },
  {
   "cell_type": "code",
   "execution_count": null,
   "id": "c7f43341",
   "metadata": {},
   "outputs": [],
   "source": [
    "import pandas as pd\n",
    "import datetime\n",
    "\n",
    "# Load the CSV file\n",
    "file_path = r\"C:\\Users\\annak\\CAS-502 Computation\\GroupProject-1\\GP1 Dataset_ Assignments.csv\"\n",
    "df = pd.read_csv(file_path, encoding='ISO-8859-1')\n",
    "\n",
    "# Convert the 'DATE' column to datetime objects\n",
    "df['DATE'] = pd.to_datetime(df['DATE'], format='%m/%d/%Y')\n",
    "\n",
    "# Function to calculate pre-deadline date\n",
    "def get_predeadline(deadline, buffer_days=1):\n",
    "    predeadline = deadline - datetime.timedelta(days=buffer_days)\n",
    "    return predeadline\n",
    "\n",
    "# Calculate predeadline for each date\n",
    "df['PREDEADLINE'] = df['DATE'].apply(lambda x: get_predeadline(x, buffer_days=1))\n",
    "\n",
    "# Rearrange columns to put PREDEADLINE between DATE and WK#\n",
    "column_order = ['ITEM#', 'DATE', 'PREDEADLINE', 'WK#', 'COURSE', 'ASSIGNMENT NAME', 'DESCRIPTION', 'DONE']\n",
    "df = df[column_order]\n",
    "\n",
    "# Print the new table headers\n",
    "print(df.head())\n",
    "\n"
   ]
  },
  {
   "cell_type": "code",
   "execution_count": null,
   "id": "29564998",
   "metadata": {},
   "outputs": [],
   "source": [
    "# Original file path\n",
    "original_file_path = r\"C:\\Users\\annak\\CAS-502 Computation\\GroupProject-1\\GP1 Dataset_ Assignments.csv\"\n",
    "\n",
    "# Constructing the new file path\n",
    "new_file_name = \"GP1 Dataset_ Assignments_PreDeadline.csv\"\n",
    "new_file_path = original_file_path.rsplit('\\\\', 1)[0] + '\\\\' + new_file_name\n",
    "\n",
    "# Save the modified DataFrame to the new file\n",
    "df.to_csv(new_file_path, index=False)\n",
    "\n",
    "print(f\"File saved as: {new_file_path}\")\n"
   ]
  },
  {
   "cell_type": "code",
   "execution_count": null,
   "id": "89705848",
   "metadata": {
    "scrolled": true
   },
   "outputs": [],
   "source": [
    "import pandas as pd\n",
    "import datetime\n",
    "import pytz\n",
    "from geopy.geocoders import Nominatim\n",
    "from timezonefinder import TimezoneFinder\n",
    "\n",
    "geolocator = Nominatim(user_agent=\"geocity\")\n",
    "tf = TimezoneFinder()\n",
    "\n",
    "# Function to get timezone from city name\n",
    "def get_timezone_from_city(city):\n",
    "    \"\"\"Return the timezone of the city.\"\"\"\n",
    "    location = geolocator.geocode(city)\n",
    "    if location:\n",
    "        timezone_str = tf.timezone_at(lat=location.latitude, lng=location.longitude)\n",
    "        return timezone_str\n",
    "    return None\n",
    "\n",
    "# Function to standardize city names (e.g., handle variations)\n",
    "def standardize_city_name(city):\n",
    "    city = city.lower()\n",
    "    if city in [\"saranda\", \"sarande\"]:\n",
    "        return \"Sarandë, Albania\"\n",
    "    return city\n",
    "\n",
    "# Load CSV and convert DATE column to datetimes\n",
    "df = pd.read_csv(\"GP1 Dataset_ Assignments.csv\", encoding='ISO-8859-1')\n",
    "df['DATE'] = pd.to_datetime(df['DATE'], utc=True)\n",
    "\n",
    "# Ask the user for their city\n",
    "user_city = standardize_city_name(input(\"Enter the city you are in: \"))\n",
    "user_timezone = get_timezone_from_city(user_city)\n",
    "\n",
    "# Convert assignment dates to the user's local timezone\n",
    "if user_timezone:\n",
    "    user_tz = pytz.timezone(user_timezone)\n",
    "    df['LOCAL_DUE_DATE'] = df['DATE'].apply(lambda x: x.astimezone(user_tz))\n",
    "else:\n",
    "    print(\"City not found. Using UTC as default.\")\n",
    "    df['LOCAL_DUE_DATE'] = df['DATE']\n",
    "\n",
    "print(df[['DATE', 'LOCAL_DUE_DATE']])\n",
    "\n"
   ]
  }
 ],
 "metadata": {
  "celltoolbar": "Edit Metadata",
  "kernelspec": {
   "display_name": "Python 3 (ipykernel)",
   "language": "python",
   "name": "python3"
  },
  "language_info": {
   "codemirror_mode": {
    "name": "ipython",
    "version": 3
   },
   "file_extension": ".py",
   "mimetype": "text/x-python",
   "name": "python",
   "nbconvert_exporter": "python",
   "pygments_lexer": "ipython3",
   "version": "3.11.4"
  }
 },
 "nbformat": 4,
 "nbformat_minor": 5
}
