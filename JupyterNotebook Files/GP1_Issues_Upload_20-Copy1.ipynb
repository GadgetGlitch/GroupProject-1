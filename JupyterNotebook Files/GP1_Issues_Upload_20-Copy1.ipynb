{
 "cells": [
  {
   "cell_type": "markdown",
   "id": "fadf3872",
   "metadata": {},
   "source": [
    "# Many Ways for Python to Scan and Read Data"
   ]
  },
  {
   "cell_type": "code",
   "execution_count": null,
   "id": "47f31e4e",
   "metadata": {},
   "outputs": [],
   "source": [
    "import ipywidgets as widgets\n",
    "from IPython.display import display\n",
    "import pandas as pd\n",
    "from docx import Document\n",
    "import fitz  # PyMuPDF\n",
    "import requests\n",
    "from bs4 import BeautifulSoup"
   ]
  },
  {
   "cell_type": "markdown",
   "id": "6e00ae32",
   "metadata": {},
   "source": [
    "# Import Syllubus File or URL Button"
   ]
  },
  {
   "cell_type": "code",
   "execution_count": 6,
   "id": "1d033db4",
   "metadata": {},
   "outputs": [
    {
     "data": {
      "application/vnd.jupyter.widget-view+json": {
       "model_id": "1ff474a5af9349e0ab0acfb53dd7d5c7",
       "version_major": 2,
       "version_minor": 0
      },
      "text/plain": [
       "VBox(children=(VBox(children=(Label(value='Supported file types: Docs (Word), PDF, Excel'), FileUpload(value=(…"
      ]
     },
     "metadata": {},
     "output_type": "display_data"
    }
   ],
   "source": [
    "# Processing functions for file upload\n",
    "def process_file_upload(change):\n",
    "    uploaded_files = change['new']\n",
    "    for name, file_info in uploaded_files.items():\n",
    "        # Detect file type and process accordingly\n",
    "        if name.endswith('.xlsx') or name.endswith('.xls'):\n",
    "            df = pd.read_excel(file_info['content'])\n",
    "            print(df.head())  # Example of processing Excel file\n",
    "        elif name.endswith('.pdf'):\n",
    "            doc = fitz.open(stream=file_info['content'], filetype=\"pdf\")\n",
    "            text = \"\"\n",
    "            for page in doc:\n",
    "                text += page.get_text()\n",
    "            print(text)  # Example of processing PDF file\n",
    "        elif name.endswith('.docx'):\n",
    "            doc = Document(file_info['content'])\n",
    "            text = \"\"\n",
    "            for para in doc.paragraphs:\n",
    "                text += para.text + '\\n'\n",
    "            print(text)  # Example of processing Word document\n",
    "        else:\n",
    "            print(f\"Unsupported file type: {name}\")\n",
    "\n",
    "# Function to scrape and process HTML from URL\n",
    "def scrape_and_process_html(url):\n",
    "    response = requests.get(url)\n",
    "    soup = BeautifulSoup(response.text, 'html.parser')\n",
    "    print(soup.get_text())  # Example of processing HTML content\n",
    "\n",
    "# Create the file upload widget\n",
    "file_upload = widgets.FileUpload(\n",
    "    accept='.xlsx, .xls, .pdf, .docx',  # Specify acceptable file types\n",
    "    multiple=True,  # Allow multiple files to be selected\n",
    "    description='Upload Files'\n",
    ")\n",
    "file_upload.observe(process_file_upload, names='value')\n",
    "\n",
    "# Text label with supported file types\n",
    "file_types_label = widgets.Label('Supported file types: Docs (Word), PDF, Excel')\n",
    "\n",
    "# URL input and submission setup\n",
    "url_input = widgets.Text(placeholder='Enter URL here', description='URL:')\n",
    "submit_button = widgets.Button(description='Submit URL', button_style='', tooltip='Click to submit the URL')\n",
    "def submit_url(b):\n",
    "    url = url_input.value\n",
    "    if url:  # Check if the URL is not empty\n",
    "        scrape_and_process_html(url)\n",
    "    else:\n",
    "        print(\"Please enter a URL.\")\n",
    "submit_button.on_click(submit_url)\n",
    "\n",
    "# Organizing the layout\n",
    "upload_box = widgets.VBox([file_types_label, file_upload])\n",
    "url_box = widgets.VBox([url_input, submit_button])\n",
    "main_box = widgets.VBox([upload_box, url_box])\n",
    "\n",
    "# Displaying the entire layout\n",
    "display(main_box)\n",
    "\n"
   ]
  }
 ],
 "metadata": {
  "kernelspec": {
   "display_name": "Python 3 (ipykernel)",
   "language": "python",
   "name": "python3"
  },
  "language_info": {
   "codemirror_mode": {
    "name": "ipython",
    "version": 3
   },
   "file_extension": ".py",
   "mimetype": "text/x-python",
   "name": "python",
   "nbconvert_exporter": "python",
   "pygments_lexer": "ipython3",
   "version": "3.11.4"
  }
 },
 "nbformat": 4,
 "nbformat_minor": 5
}
