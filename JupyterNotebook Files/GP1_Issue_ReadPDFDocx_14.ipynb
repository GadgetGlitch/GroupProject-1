{
 "cells": [
  {
   "cell_type": "markdown",
   "id": "38a18c87",
   "metadata": {},
   "source": [
    "# Processing Documents for the Assignment Tracker"
   ]
  },
  {
   "cell_type": "code",
   "execution_count": 3,
   "id": "47f31e4e",
   "metadata": {},
   "outputs": [],
   "source": [
    "import ipywidgets as widgets\n",
    "from IPython.display import display\n",
    "import pandas as pd\n",
    "from docx import Document\n",
    "import fitz  # PyMuPDF\n",
    "import requests\n",
    "from bs4 import BeautifulSoup"
   ]
  },
  {
   "cell_type": "markdown",
   "id": "6e00ae32",
   "metadata": {},
   "source": [
    "# Import Syllubus File or URL Button"
   ]
  },
  {
   "cell_type": "code",
   "execution_count": 4,
   "id": "1d033db4",
   "metadata": {},
   "outputs": [
    {
     "data": {
      "application/vnd.jupyter.widget-view+json": {
       "model_id": "1f7560f4b6064d4583b1eabdc5744015",
       "version_major": 2,
       "version_minor": 0
      },
      "text/plain": [
       "VBox(children=(VBox(children=(Label(value='Supported file types: Docs (Word), PDF, Excel'), FileUpload(value=(…"
      ]
     },
     "metadata": {},
     "output_type": "display_data"
    }
   ],
   "source": [
    "# Processing functions for file upload\n",
    "def process_file_upload(change):\n",
    "    uploaded_files = change['new']\n",
    "    for name, file_info in uploaded_files.items():\n",
    "        # Detect file type and process accordingly\n",
    "        if name.endswith('.xlsx') or name.endswith('.xls'):\n",
    "            df = pd.read_excel(file_info['content'])\n",
    "            print(df.head())  # Example of processing Excel file\n",
    "        elif name.endswith('.pdf'):\n",
    "            doc = fitz.open(stream=file_info['content'], filetype=\"pdf\")\n",
    "            text = \"\"\n",
    "            for page in doc:\n",
    "                text += page.get_text()\n",
    "            print(text)  # Example of processing PDF file\n",
    "        elif name.endswith('.docx'):\n",
    "            doc = Document(file_info['content'])\n",
    "            text = \"\"\n",
    "            for para in doc.paragraphs:\n",
    "                text += para.text + '\\n'\n",
    "            print(text)  # Example of processing Word document\n",
    "        else:\n",
    "            print(f\"Unsupported file type: {name}\")\n",
    "\n",
    "# Function to scrape and process HTML from URL\n",
    "def scrape_and_process_html(url):\n",
    "    response = requests.get(url)\n",
    "    soup = BeautifulSoup(response.text, 'html.parser')\n",
    "    print(soup.get_text())  # Example of processing HTML content\n",
    "\n",
    "# Create the file upload widget\n",
    "file_upload = widgets.FileUpload(\n",
    "    accept='.xlsx, .xls, .pdf, .docx',  # Specify acceptable file types\n",
    "    multiple=True,  # Allow multiple files to be selected\n",
    "    description='Upload Files'\n",
    ")\n",
    "file_upload.observe(process_file_upload, names='value')\n",
    "\n",
    "# Text label with supported file types\n",
    "file_types_label = widgets.Label('Supported file types: Docs (Word), PDF, Excel')\n",
    "\n",
    "# URL input and submission setup\n",
    "url_input = widgets.Text(placeholder='Enter URL here', description='URL:')\n",
    "submit_button = widgets.Button(description='Submit URL', button_style='', tooltip='Click to submit the URL')\n",
    "def submit_url(b):\n",
    "    url = url_input.value\n",
    "    if url:  # Check if the URL is not empty\n",
    "        scrape_and_process_html(url)\n",
    "    else:\n",
    "        print(\"Please enter a URL.\")\n",
    "submit_button.on_click(submit_url)\n",
    "\n",
    "# Organizing the layout\n",
    "upload_box = widgets.VBox([file_types_label, file_upload])\n",
    "url_box = widgets.VBox([url_input, submit_button])\n",
    "main_box = widgets.VBox([upload_box, url_box])\n",
    "\n",
    "# Displaying the entire layout\n",
    "display(main_box)\n",
    "\n"
   ]
  },
  {
   "cell_type": "markdown",
   "id": "89038c57",
   "metadata": {},
   "source": [
    "1. Read the uploaded Word document to extract text.\n",
    "2. Parse the extracted text to identify assignment information.\n",
    "3. Format the parsed information to match the DataFrame structure used in your tracker.\n",
    "4. Update the DataFrame with the new assignment information.\n",
    "5. Reflect these updates in the UI, particularly in the Plotly table visualization."
   ]
  },
  {
   "cell_type": "code",
   "execution_count": 5,
   "id": "9c43ccc4",
   "metadata": {},
   "outputs": [
    {
     "ename": "NameError",
     "evalue": "name 'df' is not defined",
     "output_type": "error",
     "traceback": [
      "\u001b[1;31m---------------------------------------------------------------------------\u001b[0m",
      "\u001b[1;31mNameError\u001b[0m                                 Traceback (most recent call last)",
      "Cell \u001b[1;32mIn[5], line 12\u001b[0m\n\u001b[0;32m      9\u001b[0m new_assignments_df \u001b[38;5;241m=\u001b[39m pd\u001b[38;5;241m.\u001b[39mDataFrame(new_assignments)\n\u001b[0;32m     11\u001b[0m \u001b[38;5;66;03m# Integrate this DataFrame into the main DataFrame 'df'\u001b[39;00m\n\u001b[1;32m---> 12\u001b[0m df \u001b[38;5;241m=\u001b[39m pd\u001b[38;5;241m.\u001b[39mconcat([df, new_assignments_df])\u001b[38;5;241m.\u001b[39mdrop_duplicates()\u001b[38;5;241m.\u001b[39mreset_index(drop\u001b[38;5;241m=\u001b[39m\u001b[38;5;28;01mTrue\u001b[39;00m)\n\u001b[0;32m     14\u001b[0m \u001b[38;5;66;03m# Sort and potentially reapply logic to adjust 'Colors' or other status-dependent columns\u001b[39;00m\n\u001b[0;32m     15\u001b[0m df[\u001b[38;5;124m'\u001b[39m\u001b[38;5;124mColors\u001b[39m\u001b[38;5;124m'\u001b[39m] \u001b[38;5;241m=\u001b[39m df[\u001b[38;5;124m'\u001b[39m\u001b[38;5;124mStatus\u001b[39m\u001b[38;5;124m'\u001b[39m]\u001b[38;5;241m.\u001b[39mapply(\u001b[38;5;28;01mlambda\u001b[39;00m x: \u001b[38;5;124m'\u001b[39m\u001b[38;5;124mred\u001b[39m\u001b[38;5;124m'\u001b[39m \u001b[38;5;28;01mif\u001b[39;00m x \u001b[38;5;241m==\u001b[39m \u001b[38;5;124m'\u001b[39m\u001b[38;5;124mClosed\u001b[39m\u001b[38;5;124m'\u001b[39m \u001b[38;5;28;01melse\u001b[39;00m \u001b[38;5;124m'\u001b[39m\u001b[38;5;124mblack\u001b[39m\u001b[38;5;124m'\u001b[39m)\n",
      "\u001b[1;31mNameError\u001b[0m: name 'df' is not defined"
     ]
    }
   ],
   "source": [
    "# Example of a parsed assignment entry from the Word document\n",
    "new_assignments = [\n",
    "    {\"DATE\": \"2024-01-08\", \"WEEK NUMBER\": 1, \"COURSE\": \"ORG 7074\", \n",
    "     \"ASSIGNMENT NAME\": \"Introduction Post\", \"DESCRIPTION\": \"Introduce yourself\", \n",
    "     \"Status\": \"Open\", \"Colors\": \"black\"}  # Assuming 'Colors' is determined by 'Status'\n",
    "]\n",
    "\n",
    "# Convert the list of assignments to a DataFrame\n",
    "new_assignments_df = pd.DataFrame(new_assignments)\n",
    "\n",
    "# Integrate this DataFrame into the main DataFrame 'df'\n",
    "df = pd.concat([df, new_assignments_df]).drop_duplicates().reset_index(drop=True)\n",
    "\n",
    "# Sort and potentially reapply logic to adjust 'Colors' or other status-dependent columns\n",
    "df['Colors'] = df['Status'].apply(lambda x: 'red' if x == 'Closed' else 'black')\n",
    "\n",
    "# Save the updated DataFrame back to CSV if needed\n",
    "df.to_csv('testdata.csv', index=False)\n",
    "\n",
    "# Update visualization (e.g., regenerate the Plotly table to reflect new data)\n",
    "# This would involve reusing or calling the plotting code with the updated 'df'\n"
   ]
  },
  {
   "cell_type": "code",
   "execution_count": 6,
   "id": "6a41a4a0",
   "metadata": {},
   "outputs": [
    {
     "ename": "PackageNotFoundError",
     "evalue": "Package not found at '/mnt/data/ORG7074 Syllabus Present Issues in Sustainability.docx'",
     "output_type": "error",
     "traceback": [
      "\u001b[1;31m---------------------------------------------------------------------------\u001b[0m",
      "\u001b[1;31mPackageNotFoundError\u001b[0m                      Traceback (most recent call last)",
      "Cell \u001b[1;32mIn[6], line 15\u001b[0m\n\u001b[0;32m     12\u001b[0m     \u001b[38;5;28;01mreturn\u001b[39;00m \u001b[38;5;124m'\u001b[39m\u001b[38;5;130;01m\\n\u001b[39;00m\u001b[38;5;124m'\u001b[39m\u001b[38;5;241m.\u001b[39mjoin(full_text)\n\u001b[0;32m     14\u001b[0m \u001b[38;5;66;03m# Read the document\u001b[39;00m\n\u001b[1;32m---> 15\u001b[0m document_text \u001b[38;5;241m=\u001b[39m read_word_document(doc_path)\n\u001b[0;32m     16\u001b[0m \u001b[38;5;28mprint\u001b[39m(document_text)\n",
      "Cell \u001b[1;32mIn[6], line 8\u001b[0m, in \u001b[0;36mread_word_document\u001b[1;34m(path)\u001b[0m\n\u001b[0;32m      7\u001b[0m \u001b[38;5;28;01mdef\u001b[39;00m \u001b[38;5;21mread_word_document\u001b[39m(path):\n\u001b[1;32m----> 8\u001b[0m     doc \u001b[38;5;241m=\u001b[39m Document(path)\n\u001b[0;32m      9\u001b[0m     full_text \u001b[38;5;241m=\u001b[39m []\n\u001b[0;32m     10\u001b[0m     \u001b[38;5;28;01mfor\u001b[39;00m para \u001b[38;5;129;01min\u001b[39;00m doc\u001b[38;5;241m.\u001b[39mparagraphs:\n",
      "File \u001b[1;32m~\\anaconda3\\Lib\\site-packages\\docx\\api.py:23\u001b[0m, in \u001b[0;36mDocument\u001b[1;34m(docx)\u001b[0m\n\u001b[0;32m     16\u001b[0m \u001b[38;5;250m\u001b[39m\u001b[38;5;124;03m\"\"\"Return a |Document| object loaded from `docx`, where `docx` can be either a path\u001b[39;00m\n\u001b[0;32m     17\u001b[0m \u001b[38;5;124;03mto a ``.docx`` file (a string) or a file-like object.\u001b[39;00m\n\u001b[0;32m     18\u001b[0m \n\u001b[0;32m     19\u001b[0m \u001b[38;5;124;03mIf `docx` is missing or ``None``, the built-in default document \"template\" is\u001b[39;00m\n\u001b[0;32m     20\u001b[0m \u001b[38;5;124;03mloaded.\u001b[39;00m\n\u001b[0;32m     21\u001b[0m \u001b[38;5;124;03m\"\"\"\u001b[39;00m\n\u001b[0;32m     22\u001b[0m docx \u001b[38;5;241m=\u001b[39m _default_docx_path() \u001b[38;5;28;01mif\u001b[39;00m docx \u001b[38;5;129;01mis\u001b[39;00m \u001b[38;5;28;01mNone\u001b[39;00m \u001b[38;5;28;01melse\u001b[39;00m docx\n\u001b[1;32m---> 23\u001b[0m document_part \u001b[38;5;241m=\u001b[39m Package\u001b[38;5;241m.\u001b[39mopen(docx)\u001b[38;5;241m.\u001b[39mmain_document_part\n\u001b[0;32m     24\u001b[0m \u001b[38;5;28;01mif\u001b[39;00m document_part\u001b[38;5;241m.\u001b[39mcontent_type \u001b[38;5;241m!=\u001b[39m CT\u001b[38;5;241m.\u001b[39mWML_DOCUMENT_MAIN:\n\u001b[0;32m     25\u001b[0m     tmpl \u001b[38;5;241m=\u001b[39m \u001b[38;5;124m\"\u001b[39m\u001b[38;5;124mfile \u001b[39m\u001b[38;5;124m'\u001b[39m\u001b[38;5;132;01m%s\u001b[39;00m\u001b[38;5;124m'\u001b[39m\u001b[38;5;124m is not a Word file, content type is \u001b[39m\u001b[38;5;124m'\u001b[39m\u001b[38;5;132;01m%s\u001b[39;00m\u001b[38;5;124m'\u001b[39m\u001b[38;5;124m\"\u001b[39m\n",
      "File \u001b[1;32m~\\anaconda3\\Lib\\site-packages\\docx\\opc\\package.py:116\u001b[0m, in \u001b[0;36mOpcPackage.open\u001b[1;34m(cls, pkg_file)\u001b[0m\n\u001b[0;32m    113\u001b[0m \u001b[38;5;129m@classmethod\u001b[39m\n\u001b[0;32m    114\u001b[0m \u001b[38;5;28;01mdef\u001b[39;00m \u001b[38;5;21mopen\u001b[39m(\u001b[38;5;28mcls\u001b[39m, pkg_file):\n\u001b[0;32m    115\u001b[0m \u001b[38;5;250m    \u001b[39m\u001b[38;5;124;03m\"\"\"Return an |OpcPackage| instance loaded with the contents of `pkg_file`.\"\"\"\u001b[39;00m\n\u001b[1;32m--> 116\u001b[0m     pkg_reader \u001b[38;5;241m=\u001b[39m PackageReader\u001b[38;5;241m.\u001b[39mfrom_file(pkg_file)\n\u001b[0;32m    117\u001b[0m     package \u001b[38;5;241m=\u001b[39m \u001b[38;5;28mcls\u001b[39m()\n\u001b[0;32m    118\u001b[0m     Unmarshaller\u001b[38;5;241m.\u001b[39munmarshal(pkg_reader, package, PartFactory)\n",
      "File \u001b[1;32m~\\anaconda3\\Lib\\site-packages\\docx\\opc\\pkgreader.py:22\u001b[0m, in \u001b[0;36mPackageReader.from_file\u001b[1;34m(pkg_file)\u001b[0m\n\u001b[0;32m     19\u001b[0m \u001b[38;5;129m@staticmethod\u001b[39m\n\u001b[0;32m     20\u001b[0m \u001b[38;5;28;01mdef\u001b[39;00m \u001b[38;5;21mfrom_file\u001b[39m(pkg_file):\n\u001b[0;32m     21\u001b[0m \u001b[38;5;250m    \u001b[39m\u001b[38;5;124;03m\"\"\"Return a |PackageReader| instance loaded with contents of `pkg_file`.\"\"\"\u001b[39;00m\n\u001b[1;32m---> 22\u001b[0m     phys_reader \u001b[38;5;241m=\u001b[39m PhysPkgReader(pkg_file)\n\u001b[0;32m     23\u001b[0m     content_types \u001b[38;5;241m=\u001b[39m _ContentTypeMap\u001b[38;5;241m.\u001b[39mfrom_xml(phys_reader\u001b[38;5;241m.\u001b[39mcontent_types_xml)\n\u001b[0;32m     24\u001b[0m     pkg_srels \u001b[38;5;241m=\u001b[39m PackageReader\u001b[38;5;241m.\u001b[39m_srels_for(phys_reader, PACKAGE_URI)\n",
      "File \u001b[1;32m~\\anaconda3\\Lib\\site-packages\\docx\\opc\\phys_pkg.py:21\u001b[0m, in \u001b[0;36mPhysPkgReader.__new__\u001b[1;34m(cls, pkg_file)\u001b[0m\n\u001b[0;32m     19\u001b[0m         reader_cls \u001b[38;5;241m=\u001b[39m _ZipPkgReader\n\u001b[0;32m     20\u001b[0m     \u001b[38;5;28;01melse\u001b[39;00m:\n\u001b[1;32m---> 21\u001b[0m         \u001b[38;5;28;01mraise\u001b[39;00m PackageNotFoundError(\u001b[38;5;124m\"\u001b[39m\u001b[38;5;124mPackage not found at \u001b[39m\u001b[38;5;124m'\u001b[39m\u001b[38;5;132;01m%s\u001b[39;00m\u001b[38;5;124m'\u001b[39m\u001b[38;5;124m\"\u001b[39m \u001b[38;5;241m%\u001b[39m pkg_file)\n\u001b[0;32m     22\u001b[0m \u001b[38;5;28;01melse\u001b[39;00m:  \u001b[38;5;66;03m# assume it's a stream and pass it to Zip reader to sort out\u001b[39;00m\n\u001b[0;32m     23\u001b[0m     reader_cls \u001b[38;5;241m=\u001b[39m _ZipPkgReader\n",
      "\u001b[1;31mPackageNotFoundError\u001b[0m: Package not found at '/mnt/data/ORG7074 Syllabus Present Issues in Sustainability.docx'"
     ]
    }
   ],
   "source": [
    "from docx import Document\n",
    "\n",
    "# Path to the uploaded Word document\n",
    "doc_path = '/mnt/data/ORG7074 Syllabus Present Issues in Sustainability.docx'\n",
    "\n",
    "# Function to read and print the content of the Word document\n",
    "def read_word_document(path):\n",
    "    doc = Document(path)\n",
    "    full_text = []\n",
    "    for para in doc.paragraphs:\n",
    "        full_text.append(para.text)\n",
    "    return '\\n'.join(full_text)\n",
    "\n",
    "# Read the document\n",
    "document_text = read_word_document(doc_path)\n",
    "print(document_text)  # For demonstration, this prints the document content\n"
   ]
  },
  {
   "cell_type": "code",
   "execution_count": null,
   "id": "c9a60272",
   "metadata": {},
   "outputs": [],
   "source": []
  }
 ],
 "metadata": {
  "kernelspec": {
   "display_name": "Python 3 (ipykernel)",
   "language": "python",
   "name": "python3"
  },
  "language_info": {
   "codemirror_mode": {
    "name": "ipython",
    "version": 3
   },
   "file_extension": ".py",
   "mimetype": "text/x-python",
   "name": "python",
   "nbconvert_exporter": "python",
   "pygments_lexer": "ipython3",
   "version": "3.11.4"
  }
 },
 "nbformat": 4,
 "nbformat_minor": 5
}
