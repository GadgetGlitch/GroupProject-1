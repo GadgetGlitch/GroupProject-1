{
 "cells": [
  {
   "cell_type": "markdown",
   "id": "39cc6116",
   "metadata": {},
   "source": [
    "# Install necessary packages and libraries"
   ]
  },
  {
   "cell_type": "code",
   "execution_count": 1,
   "id": "340579a1",
   "metadata": {},
   "outputs": [],
   "source": [
    "# Run the following installs only once\n",
    "\n",
    "#!pip install geopy\n",
    "#!pip install tzwhere\n",
    "#!pip install timezonefinder\n",
    "#!pip install pytz\n",
    "#!pip install --upgrade pymupdf\n",
    "#!pip install python-docx"
   ]
  },
  {
   "cell_type": "code",
   "execution_count": 2,
   "id": "d6eacd24",
   "metadata": {},
   "outputs": [],
   "source": [
    "#Code for widgets from https://ipywidgets.readthedocs.io/en/latest/examples/Widget%20Layout.html\n",
    "#This program obtains a list of assignments from a csv file and reproduces the information in a go-table format.\n",
    "#It also has two interactive widgets from ipywidgets that are used to mark one or more assignments as complete.\n",
    "\n",
    "# Setup and Imports\n",
    "import pandas as pd\n",
    "import pytz\n",
    "import plotly.graph_objects as go\n",
    "import pandas as pd\n",
    "import ipywidgets as widgets\n",
    "import datetime\n",
    "import ipywidgets as widgets\n",
    "import fitz  # PyMuPDF for PDF files\n",
    "import requests\n",
    "import re  # For regular expressions\n",
    "import openpyxl  # For .xlsx files\n",
    "import xlrd  # For .xls files\n",
    "from docx import Document\n",
    "from bs4 import BeautifulSoup\n",
    "from IPython.display import display\n",
    "from geopy.geocoders import Nominatim\n",
    "from timezonefinder import TimezoneFinder"
   ]
  },
  {
   "cell_type": "markdown",
   "id": "8f68cc2f",
   "metadata": {},
   "source": [
    "# Define variables"
   ]
  },
  {
   "cell_type": "code",
   "execution_count": 3,
   "id": "37a28850",
   "metadata": {},
   "outputs": [],
   "source": [
    "# Initialize Nominatim and TimezoneFinder\n",
    "geolocator = Nominatim(user_agent=\"geocity\")\n",
    "tf = TimezoneFinder()"
   ]
  },
  {
   "cell_type": "markdown",
   "id": "3f43c7a6",
   "metadata": {},
   "source": [
    "# Define Functions"
   ]
  },
  {
   "cell_type": "code",
   "execution_count": 4,
   "id": "13dab681",
   "metadata": {},
   "outputs": [],
   "source": [
    "#Function for timezone\n",
    "def get_timezone_from_city(city):\n",
    "    location = geolocator.geocode(city)\n",
    "    if location:\n",
    "        timezone_str = tf.timezone_at(lat=location.latitude, lng=location.longitude)\n",
    "        return timezone_str\n",
    "    return None\n",
    "\n",
    "# Function to standardize city names\n",
    "def standardize_city_name(city):\n",
    "    city = city.lower()\n",
    "    if city in [\"saranda\", \"sarande\"]:\n",
    "        return \"Sarandë, Albania\"\n",
    "    return city\n",
    "\n",
    "#Function for predeadline\n",
    "def get_predeadline(deadline, buffer_days=1):\n",
    "    \"\"\"Subtract buffer days from deadline date to get the pre-deadline date.\"\"\"\n",
    "    return deadline - datetime.timedelta(days=buffer_days)"
   ]
  },
  {
   "cell_type": "code",
   "execution_count": 5,
   "id": "c0977fbb",
   "metadata": {},
   "outputs": [],
   "source": [
    "#Place holder for functions to read different file types like Document, PDF etc. \n",
    "#Issues #10 & 14"
   ]
  },
  {
   "cell_type": "markdown",
   "id": "0a12a103",
   "metadata": {},
   "source": [
    "# Load CSV and convert DATE column to datetimes"
   ]
  },
  {
   "cell_type": "code",
   "execution_count": 6,
   "id": "987d0ad1",
   "metadata": {},
   "outputs": [],
   "source": [
    "file_path = \"GP1 Dataset_ Assignments.csv\"\n",
    "df = pd.read_csv(file_path, encoding='ISO-8859-1')\n",
    "\n",
    "df['DATE'] = pd.to_datetime(df['DATE'])\n",
    "\n",
    "dfs = []\n",
    "timezones = set(df['TIMEZONE'])\n",
    "for i in timezones:\n",
    "    df1 = df.loc[df['TIMEZONE'] == i].copy()\n",
    "    df1['DATE'] = df['DATE'].dt.tz_localize(i)\n",
    "    df1['DATE'] = df1['DATE'] + datetime.timedelta(hours=23,minutes=59)\n",
    "    dfs.append(df1)\n",
    "    \n",
    "df_merged = pd.concat([dfs[0],dfs[1]])\n",
    "df_merged.sort_index(inplace=True)\n",
    "df = df_merged"
   ]
  },
  {
   "cell_type": "markdown",
   "id": "56445012",
   "metadata": {},
   "source": [
    "# Ask the user for their city"
   ]
  },
  {
   "cell_type": "code",
   "execution_count": 7,
   "id": "586240a8",
   "metadata": {},
   "outputs": [
    {
     "name": "stdout",
     "output_type": "stream",
     "text": [
      "Enter the city you are in: testing\n"
     ]
    }
   ],
   "source": [
    "user_city = standardize_city_name(input(\"Enter the city you are in: \"))\n",
    "user_timezone = get_timezone_from_city(user_city)"
   ]
  },
  {
   "cell_type": "markdown",
   "id": "a865c66f",
   "metadata": {},
   "source": [
    "# Convert due dates to the user's local timezone and calculate for pre-deadline dates"
   ]
  },
  {
   "cell_type": "code",
   "execution_count": 8,
   "id": "e6d00245",
   "metadata": {},
   "outputs": [],
   "source": [
    "if user_timezone:\n",
    "    user_tz = pytz.timezone(user_timezone)\n",
    "else:\n",
    "    user_tz = datetime.datetime.now().astimezone().tzinfo\n",
    "\n",
    "df['LOCAL_DUE_DATE'] = df['DATE'].apply(lambda x: x.astimezone(user_tz))\n",
    "df['PREDEADLINE'] = df['LOCAL_DUE_DATE'].apply(lambda x: get_predeadline(x))\n",
    "\n",
    "# Define the order of the columns, including the new PREDEADLINE column\n",
    "#column_order = ['ITEM#', 'COURSE', 'ASSIGNMENT NAME', 'DESCRIPTION', 'DATE', 'LOCAL_DUE_DATE', 'PREDEADLINE', 'DONE']\n",
    "\n",
    "# Reorder the DataFrame according to the defined column order\n",
    "#df = df[column_order]\n",
    "\n",
    "# Print the DataFrame to check the results\n",
    "#print(df.head())"
   ]
  },
  {
   "cell_type": "markdown",
   "id": "8608b917",
   "metadata": {},
   "source": [
    "# Main App"
   ]
  },
  {
   "cell_type": "code",
   "execution_count": 9,
   "id": "324aab4f",
   "metadata": {},
   "outputs": [
    {
     "name": "stdout",
     "output_type": "stream",
     "text": [
      "To initiate, select 'None' from the dropdown list and press the button 'Mark As Complete'\n"
     ]
    },
    {
     "data": {
      "application/vnd.jupyter.widget-view+json": {
       "model_id": "f278f9bd2caa4e2c946e726b80256a30",
       "version_major": 2,
       "version_minor": 0
      },
      "text/plain": [
       "VBox(children=(HBox(children=(Dropdown(description='Assignment Name:', options=('None', 'WK4- Assignment #2', …"
      ]
     },
     "execution_count": 9,
     "metadata": {},
     "output_type": "execute_result"
    }
   ],
   "source": [
    "#Add a column for determining font color\n",
    "df['Colors'] = ['nil'] * len(df)\n",
    "for index,row in df.iterrows():\n",
    "    if row['DONE'] == 'Y':\n",
    "        df.at[index,'Colors'] = 'red' #if task is complete, turn font color 'red'\n",
    "    else:\n",
    "        df.at[index,'Colors'] = 'black' #if task is incomplete, keep font color 'black'\n",
    "        \n",
    "#Add a column for determining background color \n",
    "df['Background'] = 'white'\n",
    "\n",
    "\n",
    "#Create a list of Assignments to be used as list source for the drop down list widget\n",
    "a_list = list(df['ASSIGNMENT NAME'])\n",
    "a_list.insert(0,'None')\n",
    "\n",
    "#Pressing the button marks an assginment as complete. Instantiate button and dropdown object.\n",
    "button = widgets.Button(description=\"Mark As Complete\")\n",
    "text = widgets.Dropdown(\n",
    "    options=a_list,\n",
    "    value=a_list[0],\n",
    "    description='Assignment Name:',\n",
    "    disabled=False,\n",
    ")\n",
    "\n",
    "#define the outputs\n",
    "output = widgets.Output()\n",
    "\n",
    "#Define actions to be performed on button click\n",
    "def on_button_clicked(b):\n",
    "    with output:\n",
    "        output.clear_output()\n",
    "        a_name = text.value #obtain value of the drop down list\n",
    "        \n",
    "        if a_name == 'None':\n",
    "            \n",
    "            df.sort_values(by=['DONE', 'DATE'], inplace=True, ascending=[True,True])\n",
    "            df.reset_index(drop=True, inplace=True)\n",
    "            next_date = df.at[0,'DATE']\n",
    "            \n",
    "            df.at[0,'Background'] = 'yellow'\n",
    "            \n",
    "            for i in [1,2]:\n",
    "                if df.at[i,'DATE'] == next_date:\n",
    "                    df.at[i,'Background'] = 'yellow'\n",
    "        \n",
    "        if a_name != 'None': \n",
    "            \n",
    "            # identify the relevant assignment from database.\n",
    "            #It is assumed here that there are no duplicate assignment names\n",
    "            index_req = df.index[df['ASSIGNMENT NAME'] == a_name].to_list() \n",
    "            \n",
    "            #Mark the identified assignment as complete and sort the table based on Status followed by Date.\n",
    "            df.at[index_req[0],'DONE'] = 'Y'\n",
    "            df.at[index_req[0],'Colors'] = 'red'\n",
    "            df.at[index_req[0],'Background'] = 'white' #reset background\n",
    "            \n",
    "            df.sort_values(by=['DONE', 'DATE'], inplace=True, ascending=[True,True])\n",
    "            \n",
    "            #show the upcoming assignments in yellow background and larger font\n",
    "            #select assignments having the same dates. Select max. upto 3 assignments\n",
    "            next_date = df.at[index_req[0]+1,'DATE']\n",
    "            df.at[index_req[0]+1,'Background'] = 'yellow'\n",
    "            \n",
    "            for i in [2,3]:\n",
    "                if df.at[index_req[0]+i,'DATE'] == next_date:\n",
    "                    df.at[index_req[0]+i,'Background'] = 'yellow'\n",
    "            \n",
    "        #update drop down list\n",
    "        a_list = list(df['ASSIGNMENT NAME'])\n",
    "        a_list.insert(0,'None')\n",
    "        text.options = a_list\n",
    "        \n",
    "        #create a copy of df for writing it to csv file\n",
    "        df_copy_1 = df.copy()\n",
    "        df_copy_1['DATE'] = df_copy_1['DATE'].apply(lambda x: x.strftime(\"%m/%d/%y\"))\n",
    "        \n",
    "        #write the updated database to a csv file\n",
    "        df_copy_1.to_csv('GP1 Dataset_ Assignments.csv',columns=['ITEM#','DATE','WK#','COURSE','ASSIGNMENT NAME','DESCRIPTION','DONE','TIMEZONE'])\n",
    "        \n",
    "        #create a copy of df for updating go table\n",
    "        df_copy_2 = df.copy()\n",
    "        \n",
    "        #Update Date and Time format\n",
    "        df_copy_2['DATE'] = df_copy_2['DATE'].apply(lambda x: x.strftime(\"%m/%d/%Y, %H:%M:%S\"))\n",
    "        df_copy_2['LOCAL_DUE_DATE'] = df_copy_2['LOCAL_DUE_DATE'].apply(lambda x: x.strftime(\"%m/%d/%Y, %H:%M:%S\"))\n",
    "        df_copy_2['PREDEADLINE'] = df_copy_2['PREDEADLINE'].apply(lambda x: x.strftime(\"%m/%d/%Y, %H:%M:%S\"))\n",
    "        \n",
    "        #define the go-table\n",
    "        fig = go.Figure(data=[go.Table(\n",
    "        \n",
    "        columnwidth = [50,80,150,150,150,150,150,80],\n",
    "        \n",
    "        header=dict(\n",
    "        values=[\"ITEM\", \"COURSE\",\"ASSIGNMENT NAME\",\"DESCRIPTION\",\"DATE\",\"LOCAL_DUE_DATE\",\"PREDEADLINE\",\"DONE\"],\n",
    "        line_color='white', fill_color='white',\n",
    "        align='center', font=dict(color='blue', size=14)\n",
    "        ),\n",
    "        cells=dict(\n",
    "        values=[df_copy_2['ITEM#'],df_copy_2['COURSE'],df_copy_2['ASSIGNMENT NAME'],df_copy_2['DESCRIPTION'],df_copy_2['DATE'],df_copy_2['LOCAL_DUE_DATE'],df_copy_2['PREDEADLINE'],df_copy_2['DONE']],\n",
    "        #line_color=[df.Colors], \n",
    "        fill_color=[df.Background],\n",
    "        align='left', font=dict(color= [df.Colors], size=11)\n",
    "         ))\n",
    "        ])\n",
    "        \n",
    "        #show the go-table\n",
    "        fig.update_layout(width=1000, height=1000)\n",
    "        fig.show()\n",
    "        \n",
    "button.on_click(on_button_clicked)\n",
    "list_button = widgets.HBox([text,button])\n",
    "print(\"To initiate, select 'None' from the dropdown list and press the button 'Mark As Complete'\")\n",
    "widgets.VBox([list_button,output])"
   ]
  },
  {
   "cell_type": "code",
   "execution_count": null,
   "id": "94502376",
   "metadata": {},
   "outputs": [],
   "source": []
  }
 ],
 "metadata": {
  "kernelspec": {
   "display_name": "Python 3 (ipykernel)",
   "language": "python",
   "name": "python3"
  },
  "language_info": {
   "codemirror_mode": {
    "name": "ipython",
    "version": 3
   },
   "file_extension": ".py",
   "mimetype": "text/x-python",
   "name": "python",
   "nbconvert_exporter": "python",
   "pygments_lexer": "ipython3",
   "version": "3.10.7"
  }
 },
 "nbformat": 4,
 "nbformat_minor": 5
}
