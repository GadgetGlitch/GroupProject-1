{
 "cells": [
  {
   "cell_type": "code",
   "execution_count": 1,
   "id": "340579a1",
   "metadata": {},
   "outputs": [
    {
     "data": {
      "application/vnd.jupyter.widget-view+json": {
       "model_id": "a7c9e0007abc46b18a2bb6bc37ceb7ee",
       "version_major": 2,
       "version_minor": 0
      },
      "text/plain": [
       "VBox(children=(HBox(children=(Dropdown(description='Assignment Name:', options=('None', 'A1: P1: Read Articles…"
      ]
     },
     "metadata": {},
     "output_type": "display_data"
    }
   ],
   "source": [
    "#from https://ipywidgets.readthedocs.io/en/latest/examples/Widget%20Layout.html\n",
    "\n",
    "\n",
    "import plotly.graph_objects as go\n",
    "\n",
    "import pandas as pd\n",
    "\n",
    "import ipywidgets as widgets\n",
    "\n",
    "\n",
    "\n",
    "df = pd.read_csv('testdata.csv')\n",
    "df['Colors'] = 'nil'\n",
    "for index,row in df.iterrows():\n",
    "    if row['Status'] == 'Open':\n",
    "        df.at[index,'Colors'] = 'black'\n",
    "    else:\n",
    "        df.at[index,'Colors'] = 'red'\n",
    "\n",
    "a_list = list(df['ASSIGNMENT NAME'])\n",
    "a_list.insert(0,'None')\n",
    "\n",
    "button = widgets.Button(description=\"Mark As Complete\")\n",
    "text = widgets.Dropdown(\n",
    "    options=a_list,\n",
    "    value=a_list[0],\n",
    "    description='Assignment Name:',\n",
    "    disabled=False,\n",
    ")\n",
    "\n",
    "output = widgets.Output()\n",
    "\n",
    "\n",
    "#@output.capture()\n",
    "def on_button_clicked(b):\n",
    "    with output:\n",
    "        output.clear_output()\n",
    "        a_name = text.value\n",
    "        \n",
    "        if a_name != 'None':\n",
    "            \n",
    "       \n",
    "            index_req = df.index[df['ASSIGNMENT NAME'] == a_name].to_list()\n",
    "        \n",
    "            df.at[index_req[0],'Status'] = 'Closed'\n",
    "            df.at[index_req[0],'Colors'] = 'red'\n",
    "            df.sort_values(by=['Status', 'DATE'], inplace=True, ascending=[False,True])\n",
    "            a_list = list(df['ASSIGNMENT NAME'])\n",
    "        \n",
    "        df.to_csv('testdata.csv',columns=['DATE','WEEK NUMBER','COURSE','ASSIGNMENT NAME','DESCRIPTION','Status'])\n",
    "        fig = go.Figure(data=[go.Table(header=dict(\n",
    "        values=[\"Date\", \"Week Number\",\"Course\",\"Assignment Name\",\"Description\",\"Status\"],\n",
    "        line_color='white', fill_color='white',\n",
    "        align='center', font=dict(color='black', size=12)\n",
    "        ),\n",
    "        cells=dict(\n",
    "        values=[df['DATE'], df['WEEK NUMBER'],df['COURSE'],df['ASSIGNMENT NAME'],df['DESCRIPTION'],df['Status']],\n",
    "        #line_color=[df.Colors], \n",
    "        #fill_color=[df.Colors],\n",
    "        align='center', font=dict(color= [df.Colors], size=11)\n",
    "         ))\n",
    "        ])\n",
    "        fig.show()\n",
    "        \n",
    "fig = go.Figure(data=[go.Table(header=dict(\n",
    "        values=[\"Date\", \"Week Number\",\"Course\",\"Assignment Name\",\"Description\",\"Status\"],\n",
    "        line_color='white', fill_color='white',\n",
    "        align='center', font=dict(color='black', size=12)\n",
    "          ),\n",
    "        cells=dict(\n",
    "        values=[df['DATE'], df['WEEK NUMBER'],df['COURSE'],df['ASSIGNMENT NAME'],df['DESCRIPTION'],df['Status']],\n",
    "        #line_color=[df.Colors], \n",
    "        #fill_color=[df.Colors],\n",
    "        align='center', font=dict(color= [df.Colors], size=11)\n",
    "          ))\n",
    "        ])\n",
    "\n",
    "\n",
    "\n",
    "button.on_click(on_button_clicked)\n",
    "list_button = widgets.HBox([text,button])\n",
    "widgets.VBox([list_button,output])\n",
    "\n",
    "\n"
   ]
  }
 ],
 "metadata": {
  "celltoolbar": "Edit Metadata",
  "kernelspec": {
   "display_name": "Python 3 (ipykernel)",
   "language": "python",
   "name": "python3"
  },
  "language_info": {
   "codemirror_mode": {
    "name": "ipython",
    "version": 3
   },
   "file_extension": ".py",
   "mimetype": "text/x-python",
   "name": "python",
   "nbconvert_exporter": "python",
   "pygments_lexer": "ipython3",
   "version": "3.9.12"
  }
 },
 "nbformat": 4,
 "nbformat_minor": 5
}
